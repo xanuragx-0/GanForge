{
  "cells": [
    {
      "cell_type": "markdown",
      "metadata": {
        "id": "_sfWZU_eST2O"
      },
      "source": [
        "**NOTE: ALL THE COMMANDS FOR PLOTTING A FIGURE SHOULD ALL GO IN THE SAME CELL. SEPARATING THEM OUT INTO MULTIPLE CELLS MAY CAUSE NOTHING TO SHOW UP.**\n",
        "\n",
        "# Exercises\n",
        "\n",
        "Follow the instructions to recreate the plots using this data:\n",
        "\n",
        "## Data"
      ]
    },
    {
      "cell_type": "code",
      "execution_count": null,
      "metadata": {
        "id": "l0eZ10dLST2X"
      },
      "outputs": [],
      "source": [
        "import numpy as np\n",
        "x = np.arange(0,100)\n",
        "y = x*2\n",
        "z = x**2"
      ]
    },
    {
      "cell_type": "markdown",
      "metadata": {
        "id": "veY4-lsGST2c"
      },
      "source": [
        "**Import matplotlib.pyplot as plt and set %matplotlib inline if you are using the jupyter notebook. What command do you use if you aren't using the jupyter notebook?**"
      ]
    },
    {
      "cell_type": "code",
      "execution_count": null,
      "metadata": {
        "id": "tAOmEcNKST2e"
      },
      "outputs": [],
      "source": [
        "import matplotlib.pyplot as plt\n",
        "import numpy as np\n",
        "x = np.arange(0,100)\n",
        "y = x*2\n",
        "z = x**2\n",
        "plt.plot(x,y)\n",
        "plt.show()\n",
        "plt.plot(x,z)\n",
        "plt.show()"
      ]
    },
    {
      "cell_type": "markdown",
      "metadata": {
        "id": "5j_39gsVST2f"
      },
      "source": [
        "## Exercise 1\n",
        "\n",
        "**Follow along with these steps**\n",
        "* Create a figure object called fig using plt.figure()\n",
        "* Use add_axes to add an axis to the figure canvas at [0,0,1,1]. Call this new axis ax.\n",
        "* Plot (x,y) on that axes and set the labels and titles to match the plot below:"
      ]
    },
    {
      "cell_type": "code",
      "execution_count": null,
      "metadata": {
        "id": "03Ts4r5SST2g",
        "outputId": "14edd323-4ec0-4f09-f817-da04722d6e33"
      },
      "outputs": [
        {
          "data": {
            "text/plain": [
              "Text(0.5, 1.0, 'title')"
            ]
          },
          "execution_count": 88,
          "metadata": {},
          "output_type": "execute_result"
        },
        {
          "data": {
            "image/png": "[encoded data removed]",
            "text/plain": [
              "<Figure size 432x288 with 1 Axes>"
            ]
          },
          "metadata": {
            "needs_background": "light"
          },
          "output_type": "display_data"
        }
      ],
      "source": [
        "import matplotlib.pyplot as plt\n",
        "import numpy as np\n",
        "x=np.linspace(0,100,5)\n",
        "y=np.linspace(0,200,5)\n",
        "\n",
        "fig=plt.figure()\n",
        "ax=fig.add_axes([0,0,1,1])\n",
        "ax.plot(x,y,'b')\n",
        "ax.set_title(\"title\")\n",
        "ax.set_xlabel(\"x\")\n",
        "ax.set_ylabel(\"y\")\n",
        "plt.show()\n"
      ]
    },
    {
      "cell_type": "markdown",
      "metadata": {
        "id": "I8mFrIGwST2i"
      },
      "source": [
        "## Exercise 2\n",
        "**Create a figure object and put two axes on it, ax1 and ax2. Located at [0,0,1,1] and [0.2,0.5,.2,.2] respectively.**"
      ]
    },
    {
      "cell_type": "code",
      "execution_count": null,
      "metadata": {
        "id": "D4nUfU26ST2k",
        "outputId": "add13b99-c1ff-4844-cd38-8ec0181df777"
      },
      "outputs": [
        {
          "data": {
            "text/plain": [
              "[<matplotlib.axis.YTick at 0x2077fc87220>,\n",
              " <matplotlib.axis.YTick at 0x2077fc80be0>,\n",
              " <matplotlib.axis.YTick at 0x2077fc78dc0>,\n",
              " <matplotlib.axis.YTick at 0x2077fcbaa30>,\n",
              " <matplotlib.axis.YTick at 0x2077fcc01c0>,\n",
              " <matplotlib.axis.YTick at 0x2077fcbab20>]"
            ]
          },
          "execution_count": 89,
          "metadata": {},
          "output_type": "execute_result"
        },
        {
          "data": {
            "image/png": "[encoded data removed]",
            "text/plain": [
              "<Figure size 432x288 with 2 Axes>"
            ]
          },
          "metadata": {
            "needs_background": "light"
          },
          "output_type": "display_data"
        }
      ],
      "source": [
        "import matplotlib.pyplot as plt\n",
        "import numpy as np\n",
        "x=np.linspace(0,100,5)\n",
        "y=np.linspace(0,200,5)\n",
        "\n",
        "fig=plt.figure()\n",
        "ax1=fig.add_axes([0,0,1,1])\n",
        "ax2=fig.add_axes([0.2,0.5,.2,.2])"
      ]
    },
    {
      "cell_type": "markdown",
      "metadata": {
        "id": "SK8p_A2NST2l"
      },
      "source": [
        "**Now plot (x,y) on both axes. And call your figure object to show it.**"
      ]
    },
    {
      "cell_type": "code",
      "execution_count": null,
      "metadata": {
        "id": "m_2gVMryST2m",
        "outputId": "6994462c-a2ff-4321-f7cc-d74cca188d27"
      },
      "outputs": [
        {
          "data": {
            "text/plain": [
              "[<matplotlib.axis.XTick at 0x207034ada90>,\n",
              " <matplotlib.axis.XTick at 0x207034ad910>,\n",
              " <matplotlib.axis.XTick at 0x207034ad340>,\n",
              " <matplotlib.axis.XTick at 0x2070350eac0>,\n",
              " <matplotlib.axis.XTick at 0x20703513250>,\n",
              " <matplotlib.axis.XTick at 0x2070350e880>]"
            ]
          },
          "execution_count": 98,
          "metadata": {},
          "output_type": "execute_result"
        },
        {
          "data": {
            "image/png": "[encoded data removed]",
            "text/plain": [
              "<Figure size 432x288 with 2 Axes>"
            ]
          },
          "metadata": {
            "needs_background": "light"
          },
          "output_type": "display_data"
        }
      ],
      "source": [
        "ax1.plot(x,y)\n",
        "ax2.plot(x,y)\n",
        "plt.show()"
      ]
    },
    {
      "cell_type": "markdown",
      "metadata": {
        "id": "hYaQZfbFST2n"
      },
      "source": [
        "## Exercise 3\n",
        "\n",
        "**Create the plot below by adding two axes to a figure object at [0,0,1,1] and [0.2,0.5,.4,.4]**"
      ]
    },
    {
      "cell_type": "code",
      "execution_count": null,
      "metadata": {
        "id": "BuiYx0xbST2o",
        "outputId": "82be6eb6-270b-4233-8c26-26f8ebded796"
      },
      "outputs": [
        {
          "data": {
            "image/png": "[encoded data removed]",
            "text/plain": [
              "<Figure size 432x288 with 2 Axes>"
            ]
          },
          "metadata": {
            "needs_background": "light"
          },
          "output_type": "display_data"
        }
      ],
      "source": [
        "import matplotlib.pyplot as plt\n",
        "import numpy as np\n",
        "x=np.linspace(0,100,5)\n",
        "y=np.linspace(0,200,5)\n",
        "fig=plt.figure()\n",
        "ax1=fig.add_axes([0,0,1,1])\n",
        "ax2=fig.add_axes([0.2,0.5,.4,.4])"
      ]
    },
    {
      "cell_type": "markdown",
      "metadata": {
        "id": "SeRSiZDGST2o"
      },
      "source": [
        "**Now use x,y, and z arrays to recreate the plot below. Notice the xlimits and y limits on the inserted plot:**"
      ]
    },
    {
      "cell_type": "code",
      "execution_count": null,
      "metadata": {
        "id": "jhy7t5AKST2p",
        "outputId": "5211f008-e685-4067-ae6c-1d4c41fc5616",
        "colab": {
          "base_uri": "https://localhost:8080/",
          "height": 182
        }
      },
      "outputs": [
        {
          "output_type": "error",
          "ename": "NameError",
          "evalue": "name 'x' is not defined",
          "traceback": [
            "\u001b[0;31m---------------------------------------------------------------------------\u001b[0m",
            "\u001b[0;31mNameError\u001b[0m                                 Traceback (most recent call last)",
            "\u001b[0;32m<ipython-input-1-dae950efd9e6>\u001b[0m in \u001b[0;36m<cell line: 0>\u001b[0;34m()\u001b[0m\n\u001b[1;32m      1\u001b[0m \u001b[0;32mimport\u001b[0m \u001b[0mmatplotlib\u001b[0m\u001b[0;34m.\u001b[0m\u001b[0mpyplot\u001b[0m \u001b[0;32mas\u001b[0m \u001b[0mplt\u001b[0m\u001b[0;34m\u001b[0m\u001b[0;34m\u001b[0m\u001b[0m\n\u001b[1;32m      2\u001b[0m \u001b[0;32mimport\u001b[0m \u001b[0mnumpy\u001b[0m \u001b[0;32mas\u001b[0m \u001b[0mnp\u001b[0m\u001b[0;34m\u001b[0m\u001b[0;34m\u001b[0m\u001b[0m\n\u001b[0;32m----> 3\u001b[0;31m \u001b[0mx\u001b[0m\u001b[0;34m\u001b[0m\u001b[0;34m\u001b[0m\u001b[0m\n\u001b[0m",
            "\u001b[0;31mNameError\u001b[0m: name 'x' is not defined"
          ]
        }
      ],
      "source": [
        "import matplotlib.pyplot as plt\n",
        "import numpy as np\n",
        "x=np.arange(0,100)\n",
        "y=x*2\n",
        "z=x**2\n",
        "fig=plt.figure()\n",
        "ax1=fig.add_axes([0,0,1,1])\n",
        "ax2=fig.add_axes([0.2,0.5,.4,.4])\n",
        "ax1.plot(x,z)\n",
        "ax1.set_xlabel('x')\n",
        "ax1.set_ylabel('z')\n",
        "ax2.plot(x,y)\n",
        "ax2.set_xlabel('x')\n",
        "ax2.set_ylabel('y')\n",
        "ax2.set_title('zoom')\n",
        "ax2.set_xlim([20,22])\n",
        "ax2.set_ylim([30,50])\n",
        "plt.show()"
      ]
    },
    {
      "cell_type": "markdown",
      "metadata": {
        "id": "TM6XOILJST2q"
      },
      "source": [
        "## Exercise 4\n",
        "\n",
        "**Use plt.subplots(nrows=1, ncols=2) to create the plot below.**"
      ]
    },
    {
      "cell_type": "code",
      "execution_count": null,
      "metadata": {
        "id": "osk0Jco2ST2r",
        "outputId": "b0cf4e0c-fa68-4a6c-84f2-b9859025d693"
      },
      "outputs": [
        {
          "data": {
            "image/png": "[encoded data removed]",
            "text/plain": [
              "<Figure size 432x288 with 2 Axes>"
            ]
          },
          "metadata": {
            "needs_background": "light"
          },
          "output_type": "display_data"
        }
      ],
      "source": [
        "import matplotlib.pyplot as plt\n",
        "import numpy as np\n",
        "x=np.arange(0,100)\n",
        "y=x*2\n",
        "z=x**2\n",
        "fig,axes=plt.subplots(nrows=1,ncols=2)\n",
        "\n"
      ]
    },
    {
      "cell_type": "markdown",
      "metadata": {
        "id": "QWwItNZVST2r"
      },
      "source": [
        "**Now plot (x,y) and (x,z) on the axes. Play around with the linewidth and style**"
      ]
    },
    {
      "cell_type": "code",
      "execution_count": null,
      "metadata": {
        "id": "ZoEMYyLOST2r",
        "outputId": "b4c92f75-13a5-45cc-d2f9-8a81a1d7123c"
      },
      "outputs": [
        {
          "data": {
            "text/plain": [
              "[<matplotlib.lines.Line2D at 0x2070370aaf0>]"
            ]
          },
          "execution_count": 103,
          "metadata": {},
          "output_type": "execute_result"
        },
        {
          "data": {
            "image/png": "[encoded data removed]",
            "text/plain": [
              "<Figure size 432x288 with 2 Axes>"
            ]
          },
          "metadata": {
            "needs_background": "light"
          },
          "output_type": "display_data"
        }
      ],
      "source": [
        "import matplotlib.pyplot as plt\n",
        "import numpy as np\n",
        "x=np.arange(0,100)\n",
        "y=x*2\n",
        "z=x**2\n",
        "fig,axes=plt.subplots(nrows=1,ncols=2)\n",
        "axes[0].plot(x,y,color='blue',lw=3,ls='--')\n",
        "axes[1].plot(x,z,color='red',lw=4,ls='-')\n",
        "plt.tight_layout()\n",
        "plt.show()"
      ]
    },
    {
      "cell_type": "markdown",
      "metadata": {
        "id": "hV08IzIvST2s"
      },
      "source": [
        "**See if you can resize the plot by adding the figsize() argument in plt.subplots() are copying and pasting your previous code.**"
      ]
    },
    {
      "cell_type": "code",
      "execution_count": null,
      "metadata": {
        "id": "0pq5vAFZST2s",
        "outputId": "6f255907-cd89-4840-9bbb-11c5c9705a32"
      },
      "outputs": [
        {
          "data": {
            "text/plain": [
              "[<matplotlib.lines.Line2D at 0x2077ca67250>]"
            ]
          },
          "execution_count": 67,
          "metadata": {},
          "output_type": "execute_result"
        },
        {
          "data": {
            "image/png": "[encoded data removed]",
            "text/plain": [
              "<Figure size 864x144 with 2 Axes>"
            ]
          },
          "metadata": {
            "needs_background": "light"
          },
          "output_type": "display_data"
        }
      ],
      "source": [
        "import matplotlib.pyplot as plt\n",
        "import numpy as np\n",
        "x=np.arange(0,100)\n",
        "y=x*2\n",
        "z=x**2\n",
        "fig,axes=plt.subplots(nrows=1,ncols=2,figsize=(12,2))\n",
        "axes[0].plot(x,y,color='blue',lw=3,ls='-')\n",
        "axes[1].plot(x,z,color='red',lw=4,ls='--')\n",
        "plt.tight_layout()\n",
        "plt.show()\n"
      ]
    },
    {
      "cell_type": "code",
      "source": [],
      "metadata": {
        "id": "0F6XFwpR8dmH"
      },
      "execution_count": null,
      "outputs": []
    },
    {
      "cell_type": "code",
      "source": [
        "\n"
      ],
      "metadata": {
        "id": "TMgGhjk68gy2"
      },
      "execution_count": null,
      "outputs": []
    },
    {
      "cell_type": "markdown",
      "metadata": {
        "id": "-ONbbrWEST2t"
      },
      "source": [
        "# Great Job!"
      ]
    }
  ],
  "metadata": {
    "kernelspec": {
      "display_name": "Python 3 (ipykernel)",
      "language": "python",
      "name": "python3"
    },
    "language_info": {
      "codemirror_mode": {
        "name": "ipython",
        "version": 3
      },
      "file_extension": ".py",
      "mimetype": "text/x-python",
      "name": "python",
      "nbconvert_exporter": "python",
      "pygments_lexer": "ipython3",
      "version": "3.9.12"
    },
    "colab": {
      "provenance": []
    }
  },
  "nbformat": 4,
  "nbformat_minor": 0
}