{
  "nbformat": 4,
  "nbformat_minor": 0,
  "metadata": {
    "colab": {
      "provenance": []
    },
    "kernelspec": {
      "name": "python3",
      "display_name": "Python 3"
    },
    "language_info": {
      "name": "python"
    }
  },
  "cells": [
    {
      "cell_type": "code",
      "execution_count": 1,
      "metadata": {
        "id": "BLVwf4_ExMKR"
      },
      "outputs": [],
      "source": []
    },
    {
      "cell_type": "code",
      "source": [
        "import matplotlib.pyplot as plt\n",
        "import matplotlib.image as mpimg\n",
        "from glob import glob\n",
        "\n",
        "\n",
        "cat_images = glob('/content/cats_and_dogs_filtered/train/cats/*.jpg')\n",
        "dog_images = glob('/content/cats_and_dogs_filtered/train/dogs/*.jpg')\n",
        "\n",
        "if cat_images and dog_images:\n",
        "    cat_img = mpimg.imread(cat_images[0])\n",
        "    dog_img = mpimg.imread(dog_images[0])\n",
        "\n",
        "    # Display\n",
        "    fig, axes = plt.subplots(1, 2, figsize=(10, 5))\n",
        "    axes[0].imshow(cat_img)\n",
        "    axes[0].set_title(\"Cat\")\n",
        "    axes[0].axis('off')\n",
        "\n",
        "    axes[1].imshow(dog_img)\n",
        "    axes[1].set_title(\"Dog\")\n",
        "    axes[1].axis('off')\n",
        "\n",
        "    plt.tight_layout()\n",
        "    plt.show()\n",
        "else:\n",
        "    print(\" No images found. Please check the paths.\")"
      ],
      "metadata": {
        "id": "GG07LiQhyk_2"
      },
      "execution_count": null,
      "outputs": []
    },
    {
      "cell_type": "code",
      "source": [
        "#Image Manipulation\n",
        "img=plt.imread(dog_images [2])\n",
        "fig, axes = plt.subplots(figsize=(8, 8))\n",
        "axes.imshow(img)\n",
        "axes.axis('off')\n",
        "plt.show()"
      ],
      "metadata": {
        "id": "1mjZYCABAQId"
      },
      "execution_count": null,
      "outputs": []
    },
    {
      "cell_type": "code",
      "source": [
        "cv2.cvtColor(img, cv2.COLOR_BGR2RGB)"
      ],
      "metadata": {
        "id": "Pfhi4QQOBm1H"
      },
      "execution_count": null,
      "outputs": []
    },
    {
      "cell_type": "code",
      "source": [
        "#RESIZING\n",
        "img_resize=cv2.resize(img, None,fx=0.25,fy=0.25)\n",
        "fig, axes = plt.subplots(figsize=(8, 8))\n",
        "axes.imshow(img_resize)\n",
        "axes.axis('off')\n",
        "plt.show()"
      ],
      "metadata": {
        "id": "kfrq2HyeCHO9"
      },
      "execution_count": null,
      "outputs": []
    },
    {
      "cell_type": "code",
      "source": [
        "#RESIZING\n",
        "img_resize=cv2.resize(img,(1000,2000), interpolation = cv2.INTER_CUBIC)\n",
        "fig, axes = plt.subplots(figsize=(8, 8))\n",
        "axes.imshow(img_resize)\n",
        "axes.axis('off')\n",
        "plt.show()"
      ],
      "metadata": {
        "id": "RHMFX5WDDQqX"
      },
      "execution_count": null,
      "outputs": []
    },
    {
      "cell_type": "code",
      "source": [
        " #SHARPEN IMAGE\n",
        " kernel_sharpen = np.array([[0, -1, 0], [-1, 5, -1], [0, -1, 0]])\n",
        "sharpened = cv2.filter2D(img, -1, kernel_sharpen)\n",
        "fig, axes = plt.subplots(figsize=(8, 8))\n",
        "axes.imshow(sharpened)\n",
        "axes.axis('off')\n",
        "axes.set_title('Sharpened Image')\n",
        "plt.show()"
      ],
      "metadata": {
        "id": "RFq3t8wgGViu"
      },
      "execution_count": null,
      "outputs": []
    },
    {
      "cell_type": "code",
      "source": [
        "#blurring image\n",
        "kernel_3x3 = np.ones((3, 3), dtype=np.float32) / 9.0\n",
        "blurred = cv2.filter2D(img, -1, kernel_3x3)\n",
        "fig, axes = plt.subplots(figsize=(8, 8))\n",
        "axes.imshow(blurred)\n",
        "axes.axis('off')\n",
        "axes.set_title('Blurred Image')\n",
        "plt.show()"
      ],
      "metadata": {
        "id": "zVCFohHEI1v8"
      },
      "execution_count": null,
      "outputs": []
    }
  ]
}